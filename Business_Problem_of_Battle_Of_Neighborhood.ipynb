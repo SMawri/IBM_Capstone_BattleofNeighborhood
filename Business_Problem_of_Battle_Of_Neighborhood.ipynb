{
 "cells": [
  {
   "cell_type": "markdown",
   "metadata": {
    "collapsed": true
   },
   "source": [
    "# Introduction\n",
    "\n",
    "My report is for those who are planning to start a new restaurant. I'll try to provide as many suggestions on what all factors need to be considered while starting a new venture."
   ]
  },
  {
   "cell_type": "markdown",
   "metadata": {},
   "source": [
    "# Business Problem\n",
    "\n",
    "\n",
    "In my report I'm going to focus on problems one might face while opening a new restaurant. Well there are many factors to be considered to open a small or big level business. For example say Grace wants to open an Indian restaurant, first and foremost important point to decide is the location for her new restaurant. On what basis can Grace decide her restaurant's location? Does Grace want to rent the place or can she afford to buy it? While selecting the place there are key points to consider like she needs to check out how many Indian restaurants are there in that specific location? If incase there are already two Indian restaurants which have good ratings, will it be risky to open new one near these restaurants? What all factors will help Grace to run her business above average? (Out of scope for this project: Budget for Kitchen tools, restaurant furniture and decorations,hire new chef's and waiters, budget everybody's salary. Decide on Menu details, restaurant advertisment, publish dicount coupons, restaurant website.)"
   ]
  },
  {
   "cell_type": "markdown",
   "metadata": {},
   "source": [
    "# Discussion\n",
    "\n",
    "Let's discuss the above mentioned problem statements. Firstly Grace needs to choose a suitable location for her restaurant. Let's say Grace wants to open a new Indian Restaurant in San Francisco. San Francisco is a famous tourist place, and also its in silicon valley, because of that real estate is very costly. So assuming that Grace wants to rent a place for her new restaurant. And now she needs to figure out how many restaurants are there in say neighborhood A, B, C,etc. If there are more than two Indian restaurants in a neighborhood then that would be a great risk to open new restaurant of same cuisine in that neighborhood. Selecting a place where there is less or no restaurant would be of great choice, considering the rent of neighborhood too. Why I'm emphasing that there should be less restaurants is, so that Grace will face less competition with same cuisine restaurants. She needs to look for a place where many people frequently visit so that her business is above average. Places like Downtown, Movie theatre, Malls & Gas stations would help her business running. Restaurants ratings, checkin of customers might help in deciding location crowd. I would also suggest that Grace should check for opening and closing timings of other restaurants. She may try opening her place 30 mins before other restaurants open up and close 30 mins or 1 hour later the other restaurants, this might help to get more customers."
   ]
  }
 ],
 "metadata": {
  "kernelspec": {
   "display_name": "Python 3.5",
   "language": "python",
   "name": "python3"
  },
  "language_info": {
   "codemirror_mode": {
    "name": "ipython",
    "version": 3
   },
   "file_extension": ".py",
   "mimetype": "text/x-python",
   "name": "python",
   "nbconvert_exporter": "python",
   "pygments_lexer": "ipython3",
   "version": "3.5.5"
  }
 },
 "nbformat": 4,
 "nbformat_minor": 1
}
